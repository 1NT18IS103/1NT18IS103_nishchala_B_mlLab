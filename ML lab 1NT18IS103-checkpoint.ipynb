{
 "cells": [
  {
   "cell_type": "code",
   "execution_count": 2,
   "metadata": {},
   "outputs": [
    {
     "ename": "SyntaxError",
     "evalue": "invalid syntax (<ipython-input-2-39e9ad287d00>, line 3)",
     "output_type": "error",
     "traceback": [
      "\u001b[0;36m  File \u001b[0;32m\"<ipython-input-2-39e9ad287d00>\"\u001b[0;36m, line \u001b[0;32m3\u001b[0m\n\u001b[0;31m    print(\"enter the element\")\u001b[0m\n\u001b[0m    ^\u001b[0m\n\u001b[0;31mSyntaxError\u001b[0m\u001b[0;31m:\u001b[0m invalid syntax\n"
     ]
    }
   ],
   "source": []
  },
  {
   "cell_type": "code",
   "execution_count": 3,
   "metadata": {},
   "outputs": [
    {
     "ename": "SyntaxError",
     "evalue": "invalid syntax (<ipython-input-3-39e9ad287d00>, line 3)",
     "output_type": "error",
     "traceback": [
      "\u001b[0;36m  File \u001b[0;32m\"<ipython-input-3-39e9ad287d00>\"\u001b[0;36m, line \u001b[0;32m3\u001b[0m\n\u001b[0;31m    print(\"enter the element\")\u001b[0m\n\u001b[0m    ^\u001b[0m\n\u001b[0;31mSyntaxError\u001b[0m\u001b[0;31m:\u001b[0m invalid syntax\n"
     ]
    }
   ],
   "source": []
  },
  {
   "cell_type": "code",
   "execution_count": 4,
   "metadata": {},
   "outputs": [
    {
     "ename": "SyntaxError",
     "evalue": "invalid syntax (<ipython-input-4-54638dd96cda>, line 3)",
     "output_type": "error",
     "traceback": [
      "\u001b[0;36m  File \u001b[0;32m\"<ipython-input-4-54638dd96cda>\"\u001b[0;36m, line \u001b[0;32m3\u001b[0m\n\u001b[0;31m    print(\"enter the elements\")\u001b[0m\n\u001b[0m    ^\u001b[0m\n\u001b[0;31mSyntaxError\u001b[0m\u001b[0;31m:\u001b[0m invalid syntax\n"
     ]
    }
   ],
   "source": [
    "#bubble sort\n",
    "n= int(input(\"enter number of elements\")\n",
    "print(\"enter the elements\")\n",
    "l= list(map(int,input().split()))\n",
    "for i in range(len(l)):\n",
    "    for j in range(i+1,len(l)):\n",
    "        if(l[i]>l[j]):\n",
    "            temp = l[i]\n",
    "            l[i] = l[j]\n",
    "            l[j] = temp\n",
    "print(\"sorted elemets\", end=\"\")\n",
    "print(l)"
   ]
  },
  {
   "cell_type": "code",
   "execution_count": 1,
   "metadata": {},
   "outputs": [
    {
     "ename": "SyntaxError",
     "evalue": "invalid syntax (<ipython-input-1-47bee8a46093>, line 3)",
     "output_type": "error",
     "traceback": [
      "\u001b[0;36m  File \u001b[0;32m\"<ipython-input-1-47bee8a46093>\"\u001b[0;36m, line \u001b[0;32m3\u001b[0m\n\u001b[0;31m    print(\"enter the elements\")\u001b[0m\n\u001b[0m    ^\u001b[0m\n\u001b[0;31mSyntaxError\u001b[0m\u001b[0;31m:\u001b[0m invalid syntax\n"
     ]
    }
   ],
   "source": [
    "#bubble sort\n",
    "n= int(input(\"enter number of elements\")\n",
    "print(\"enter the elements\")\n",
    "l= list(map(int,input().split()))\n",
    "for i in range(len(l)):\n",
    "    for j in range(i+1,len(l)):\n",
    "        if(l[i]>l[j]):\n",
    "           temp = l[i]\n",
    "           l[i] = l[j]\n",
    "           l[j] = temp\n",
    "           \n",
    "print(\"sorted elemets\", end= \"\")\n",
    "print(l)"
   ]
  },
  {
   "cell_type": "code",
   "execution_count": 3,
   "metadata": {},
   "outputs": [
    {
     "name": "stdout",
     "output_type": "stream",
     "text": [
      "enter number of elements4\n",
      "enter the elements\n",
      "5 4 3 2\n",
      "sorted elemets[2, 3, 4, 5]\n"
     ]
    }
   ],
   "source": [
    "#bubble sort\n",
    "n= int(input(\"enter number of elements\"))\n",
    "print(\"enter the elements\")\n",
    "l= list(map(int,input().split()))\n",
    "for i in range(len(l)):\n",
    "    for j in range(i+1,len(l)):\n",
    "        if(l[i]>l[j]):\n",
    "           temp = l[i]\n",
    "           l[i] = l[j]\n",
    "           l[j] = temp\n",
    "           \n",
    "print(\"sorted elemets\", end= \"\")\n",
    "print(l)"
   ]
  },
  {
   "cell_type": "code",
   "execution_count": 5,
   "metadata": {},
   "outputs": [
    {
     "name": "stdout",
     "output_type": "stream",
     "text": [
      "standard deviation is : 1.118033988749895\n",
      "variance is :1.2500000000000002 \n"
     ]
    }
   ],
   "source": [
    "#standard deviation and variation\n",
    "import math\n",
    "array_elements=[1,2,3,4]\n",
    "temp_sum = 0\n",
    "\n",
    "#calculate mean\n",
    "mean =sum(array_elements) / len(array_elements)\n",
    "\n",
    "for i in array_elements:\n",
    "    temp_sum = temp_sum +((i - mean)**2)\n",
    "sd = math.sqrt((temp_sum / (len(array_elements))))\n",
    "var = sd*sd\n",
    "print(\"standard deviation is : {}\" . format(sd))\n",
    "print(\"variance is :{} \".format(var))"
   ]
  },
  {
   "cell_type": "code",
   "execution_count": 9,
   "metadata": {},
   "outputs": [],
   "source": [
    "#Create a list of 5 elements\n",
    "list1 = [1,2,3,4,5]"
   ]
  },
  {
   "cell_type": "code",
   "execution_count": 12,
   "metadata": {},
   "outputs": [
    {
     "name": "stdout",
     "output_type": "stream",
     "text": [
      "[1, 2, 3, 4, 5]\n"
     ]
    }
   ],
   "source": [
    "#Create a list of 5 elements\n",
    "list1 = [1,2,3,4,5]\n",
    "print(list1)"
   ]
  },
  {
   "cell_type": "code",
   "execution_count": 14,
   "metadata": {},
   "outputs": [
    {
     "name": "stdout",
     "output_type": "stream",
     "text": [
      "[1, 2, 3, 4, 5]\n",
      "3\n",
      "5\n"
     ]
    }
   ],
   "source": [
    "list1 = [1,2,3,4,5]\n",
    "print(list1)\n",
    "print(list1[2])\n",
    "print(list1[4])"
   ]
  },
  {
   "cell_type": "code",
   "execution_count": 15,
   "metadata": {},
   "outputs": [
    {
     "name": "stdout",
     "output_type": "stream",
     "text": [
      "[1, 2, 3, 4, 5, 6]\n",
      "[1, 2, 3, 4, 5]\n"
     ]
    }
   ],
   "source": [
    "list1.append(6)\n",
    "print(list1)\n",
    "list1.pop()\n",
    "print(list1)"
   ]
  },
  {
   "cell_type": "code",
   "execution_count": 16,
   "metadata": {},
   "outputs": [
    {
     "name": "stdout",
     "output_type": "stream",
     "text": [
      "[10, 20, 30, 40, 50, 60]\n"
     ]
    }
   ],
   "source": [
    "list2 = [10,20,30,40,50,60]\n",
    "print(list2)"
   ]
  },
  {
   "cell_type": "code",
   "execution_count": 17,
   "metadata": {},
   "outputs": [
    {
     "name": "stdout",
     "output_type": "stream",
     "text": [
      "[1, 2, 3, 4, 5, 10, 20, 30, 40, 50, 60]\n"
     ]
    }
   ],
   "source": [
    "result = list1 +list2\n",
    "print(result)\n"
   ]
  },
  {
   "cell_type": "code",
   "execution_count": 18,
   "metadata": {},
   "outputs": [
    {
     "name": "stdout",
     "output_type": "stream",
     "text": [
      "1\n",
      "2\n",
      "3\n",
      "4\n",
      "5\n",
      "10\n",
      "20\n",
      "30\n",
      "40\n",
      "50\n",
      "60\n"
     ]
    }
   ],
   "source": [
    "for i in result:\n",
    "    print(i)"
   ]
  },
  {
   "cell_type": "code",
   "execution_count": 19,
   "metadata": {},
   "outputs": [
    {
     "name": "stdout",
     "output_type": "stream",
     "text": [
      "True\n",
      "False\n"
     ]
    }
   ],
   "source": [
    "str1 =10\n",
    "str2 = 20\n",
    "print(str1<str2)\n",
    "print(str1>str2)"
   ]
  },
  {
   "cell_type": "code",
   "execution_count": 20,
   "metadata": {},
   "outputs": [
    {
     "name": "stdout",
     "output_type": "stream",
     "text": [
      "[1, 2, 3, 4, 5]\n",
      "[10, 20, 30, 40, 50, 60]\n",
      "1\n",
      "5\n"
     ]
    }
   ],
   "source": [
    "print(list1)\n",
    "print(list2)\n",
    "print(min(list1))\n",
    "print(max(list1))"
   ]
  },
  {
   "cell_type": "code",
   "execution_count": 21,
   "metadata": {},
   "outputs": [
    {
     "name": "stdout",
     "output_type": "stream",
     "text": [
      "strings are equal :\n"
     ]
    }
   ],
   "source": [
    "string1 = \"sample\"\n",
    "string2 = \"sample\"\n",
    "\n",
    "if string1 ==string2 :\n",
    "    print(\"strings are equal :\")\n",
    "else :\n",
    "    print (\"strings are not equal\")"
   ]
  },
  {
   "cell_type": "code",
   "execution_count": 22,
   "metadata": {},
   "outputs": [
    {
     "name": "stdout",
     "output_type": "stream",
     "text": [
      "20\n",
      "10\n"
     ]
    }
   ],
   "source": [
    "a=10\n",
    "b=20\n",
    "a,b=b,a\n",
    "print(a)\n",
    "print(b)\n"
   ]
  },
  {
   "cell_type": "code",
   "execution_count": 23,
   "metadata": {},
   "outputs": [
    {
     "name": "stdout",
     "output_type": "stream",
     "text": [
      "1,2,3,4\n",
      "1\n",
      "enter the first number\n",
      "15\n",
      "enter the second number\n",
      "15\n",
      "sum 30\n"
     ]
    }
   ],
   "source": [
    "#simple calculator\n",
    "print(\"1,2,3,4\")\n",
    "ch = int(input())\n",
    "print(\"enter the first number\")\n",
    "a = int(input())\n",
    "print(\"enter the second number\")\n",
    "b = int(input())\n",
    "if(ch==1):\n",
    "    print(\"sum {}\".format(a+b))\n",
    "elif(ch==2):\n",
    "    print(\"difference {}\". format(a-b))\n",
    "elif(ch==3):\n",
    "    print(\"multiplication{}\". format(a*b))\n",
    "elif(ch==4):\n",
    "    print(\"division{}\". format(a/b))\n"
   ]
  },
  {
   "cell_type": "code",
   "execution_count": 9,
   "metadata": {},
   "outputs": [
    {
     "name": "stdout",
     "output_type": "stream",
     "text": [
      "value: normalized value\n",
      "115.3 : 0.23691722169362506\n",
      "195.5 : 1.0\n",
      "120.5 : 0.2863939105613701\n",
      "110.2 : 0.18839200761179828\n",
      "90.4 : 0.0\n",
      "105.6 : 0.14462416745956222\n",
      "110.9 : 0.1950523311132255\n",
      "116.3 : 0.24643196955280677\n",
      "122.3 : 0.3035204567078972\n",
      "125.4 : 0.3330161750713606\n"
     ]
    }
   ],
   "source": [
    "#min-max normalization\n",
    "a=(115.3,195.5,120.5,110.2,90.4,105.6,110.9,116.3,122.3,125.4)\n",
    "xmin= min(a)\n",
    "xmax= max(a)\n",
    "print(\"value: normalized value\")\n",
    "for x in a:\n",
    "    n= (x-xmin)/(xmax-xmin)\n",
    "    print(\"{} : {}\".format(x,n))\n"
   ]
  },
  {
   "cell_type": "code",
   "execution_count": 14,
   "metadata": {},
   "outputs": [
    {
     "name": "stdout",
     "output_type": "stream",
     "text": [
      "value : standardized value\n",
      "115.3 : -0.22422720478983732\n",
      "195.5 : 2.803217546749711\n",
      "120.5 : -0.02793402887954231\n",
      "110.2 : -0.4167455119326263\n",
      "90.4 : -1.164169527898749\n",
      "105.6 : -0.5903894752378875\n",
      "110.9 : -0.3903214305600865\n",
      "116.3 : -0.18647851711478058\n",
      "122.3 : 0.040013608935559664\n",
      "125.4 : 0.15703454072823578\n"
     ]
    }
   ],
   "source": [
    "#standardization\n",
    "\n",
    "import math\n",
    "temp_sum = 0\n",
    "a=(115.3,195.5,120.5,110.2,90.4,105.6,110.9,116.3,122.3,125.4)\n",
    "\n",
    "mean = sum(a) /len(a)\n",
    "\n",
    "for i in a:\n",
    "    temp_sum = temp_sum + ((i-mean)**2)\n",
    "sd = math.sqrt((temp_sum/len(a)))\n",
    "print(\"value : standardized value\")\n",
    "for i in a:\n",
    "    s = (i-mean)/sd\n",
    "    print(\"{} : {}\" .format(i,s))"
   ]
  },
  {
   "cell_type": "code",
   "execution_count": null,
   "metadata": {},
   "outputs": [],
   "source": []
  }
 ],
 "metadata": {
  "kernelspec": {
   "display_name": "Python 3",
   "language": "python",
   "name": "python3"
  },
  "language_info": {
   "codemirror_mode": {
    "name": "ipython",
    "version": 3
   },
   "file_extension": ".py",
   "mimetype": "text/x-python",
   "name": "python",
   "nbconvert_exporter": "python",
   "pygments_lexer": "ipython3",
   "version": "3.8.5"
  }
 },
 "nbformat": 4,
 "nbformat_minor": 4
}
