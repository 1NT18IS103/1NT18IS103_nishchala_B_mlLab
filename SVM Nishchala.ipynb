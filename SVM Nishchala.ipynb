{
 "cells": [
  {
   "cell_type": "code",
   "execution_count": 1,
   "metadata": {},
   "outputs": [],
   "source": [
    "#importing libraries\n",
    "import numpy as np\n",
    "import pandas as pd\n",
    "from sklearn.preprocessing import StandardScaler\n",
    "from sklearn.metrics import confusion_matrix,accuracy_score,classification_report\n",
    "from sklearn import svm\n",
    "from sklearn.svm import SVC\n",
    "from sklearn.model_selection import train_test_split"
   ]
  },
  {
   "cell_type": "code",
   "execution_count": 3,
   "metadata": {},
   "outputs": [
    {
     "data": {
      "text/html": [
       "<div>\n",
       "<style scoped>\n",
       "    .dataframe tbody tr th:only-of-type {\n",
       "        vertical-align: middle;\n",
       "    }\n",
       "\n",
       "    .dataframe tbody tr th {\n",
       "        vertical-align: top;\n",
       "    }\n",
       "\n",
       "    .dataframe thead th {\n",
       "        text-align: right;\n",
       "    }\n",
       "</style>\n",
       "<table border=\"1\" class=\"dataframe\">\n",
       "  <thead>\n",
       "    <tr style=\"text-align: right;\">\n",
       "      <th></th>\n",
       "      <th>Id</th>\n",
       "      <th>RI</th>\n",
       "      <th>Na</th>\n",
       "      <th>Mg</th>\n",
       "      <th>Al</th>\n",
       "      <th>Si</th>\n",
       "      <th>K</th>\n",
       "      <th>Ca</th>\n",
       "      <th>Ba</th>\n",
       "      <th>Fe</th>\n",
       "      <th>Type</th>\n",
       "    </tr>\n",
       "  </thead>\n",
       "  <tbody>\n",
       "    <tr>\n",
       "      <th>0</th>\n",
       "      <td>1</td>\n",
       "      <td>1.52101</td>\n",
       "      <td>13.64</td>\n",
       "      <td>4.49</td>\n",
       "      <td>1.10</td>\n",
       "      <td>71.78</td>\n",
       "      <td>0.06</td>\n",
       "      <td>8.75</td>\n",
       "      <td>0.0</td>\n",
       "      <td>0.0</td>\n",
       "      <td>1</td>\n",
       "    </tr>\n",
       "    <tr>\n",
       "      <th>1</th>\n",
       "      <td>2</td>\n",
       "      <td>1.51761</td>\n",
       "      <td>13.89</td>\n",
       "      <td>3.60</td>\n",
       "      <td>1.36</td>\n",
       "      <td>72.73</td>\n",
       "      <td>0.48</td>\n",
       "      <td>7.83</td>\n",
       "      <td>0.0</td>\n",
       "      <td>0.0</td>\n",
       "      <td>1</td>\n",
       "    </tr>\n",
       "    <tr>\n",
       "      <th>2</th>\n",
       "      <td>3</td>\n",
       "      <td>1.51618</td>\n",
       "      <td>13.53</td>\n",
       "      <td>3.55</td>\n",
       "      <td>1.54</td>\n",
       "      <td>72.99</td>\n",
       "      <td>0.39</td>\n",
       "      <td>7.78</td>\n",
       "      <td>0.0</td>\n",
       "      <td>0.0</td>\n",
       "      <td>1</td>\n",
       "    </tr>\n",
       "    <tr>\n",
       "      <th>3</th>\n",
       "      <td>4</td>\n",
       "      <td>1.51766</td>\n",
       "      <td>13.21</td>\n",
       "      <td>3.69</td>\n",
       "      <td>1.29</td>\n",
       "      <td>72.61</td>\n",
       "      <td>0.57</td>\n",
       "      <td>8.22</td>\n",
       "      <td>0.0</td>\n",
       "      <td>0.0</td>\n",
       "      <td>1</td>\n",
       "    </tr>\n",
       "    <tr>\n",
       "      <th>4</th>\n",
       "      <td>5</td>\n",
       "      <td>1.51742</td>\n",
       "      <td>13.27</td>\n",
       "      <td>3.62</td>\n",
       "      <td>1.24</td>\n",
       "      <td>73.08</td>\n",
       "      <td>0.55</td>\n",
       "      <td>8.07</td>\n",
       "      <td>0.0</td>\n",
       "      <td>0.0</td>\n",
       "      <td>1</td>\n",
       "    </tr>\n",
       "  </tbody>\n",
       "</table>\n",
       "</div>"
      ],
      "text/plain": [
       "   Id       RI     Na    Mg    Al    Si      K    Ca   Ba   Fe  Type\n",
       "0   1  1.52101  13.64  4.49  1.10  71.78  0.06  8.75  0.0  0.0     1\n",
       "1   2  1.51761  13.89  3.60  1.36  72.73  0.48  7.83  0.0  0.0     1\n",
       "2   3  1.51618  13.53  3.55  1.54  72.99  0.39  7.78  0.0  0.0     1\n",
       "3   4  1.51766  13.21  3.69  1.29  72.61  0.57  8.22  0.0  0.0     1\n",
       "4   5  1.51742  13.27  3.62  1.24  73.08  0.55  8.07  0.0  0.0     1"
      ]
     },
     "execution_count": 3,
     "metadata": {},
     "output_type": "execute_result"
    }
   ],
   "source": [
    "#importing dataset\n",
    "data=pd.read_csv('C:/Users/User/Desktop/glass.csv')\n",
    "data.head()"
   ]
  },
  {
   "cell_type": "code",
   "execution_count": 4,
   "metadata": {},
   "outputs": [
    {
     "data": {
      "text/plain": [
       "array([[-1.72397593,  0.87286765,  0.28495326, ..., -0.35287683,\n",
       "        -0.5864509 , -0.84827468],\n",
       "       [-1.70778837, -0.24933347,  0.59181718, ..., -0.35287683,\n",
       "        -0.5864509 , -0.84827468],\n",
       "       [-1.6916008 , -0.72131806,  0.14993314, ..., -0.35287683,\n",
       "        -0.5864509 , -0.84827468],\n",
       "       ...,\n",
       "       [ 1.6916008 ,  0.75404635,  1.16872135, ...,  2.95320036,\n",
       "        -0.5864509 ,  2.01047778],\n",
       "       [ 1.70778837, -0.61239854,  1.19327046, ...,  2.81208731,\n",
       "        -0.5864509 ,  2.01047778],\n",
       "       [ 1.72397593, -0.41436305,  1.00915211, ...,  3.01367739,\n",
       "        -0.5864509 ,  2.01047778]])"
      ]
     },
     "execution_count": 4,
     "metadata": {},
     "output_type": "execute_result"
    }
   ],
   "source": [
    "StandardScaler().fit_transform(data)"
   ]
  },
  {
   "cell_type": "code",
   "execution_count": 5,
   "metadata": {},
   "outputs": [],
   "source": [
    "X=data.drop('Type',axis=1)\n",
    "Y=data.Type"
   ]
  },
  {
   "cell_type": "code",
   "execution_count": 6,
   "metadata": {},
   "outputs": [
    {
     "data": {
      "text/plain": [
       "SVC(kernel='linear')"
      ]
     },
     "execution_count": 6,
     "metadata": {},
     "output_type": "execute_result"
    }
   ],
   "source": [
    "model=svm.SVC(kernel='linear')\n",
    "X_train,X_test,Y_train,Y_test=train_test_split(X,Y,test_size=0.3)\n",
    "model.fit(X_train,Y_train)   "
   ]
  },
  {
   "cell_type": "code",
   "execution_count": 7,
   "metadata": {},
   "outputs": [
    {
     "data": {
      "text/plain": [
       "array([[6.90000e+01, 1.52152e+00, 1.31200e+01, 3.58000e+00, 9.00000e-01,\n",
       "        7.22000e+01, 2.30000e-01, 9.82000e+00, 0.00000e+00, 1.60000e-01],\n",
       "       [7.10000e+01, 1.51574e+00, 1.48600e+01, 3.67000e+00, 1.74000e+00,\n",
       "        7.18700e+01, 1.60000e-01, 7.36000e+00, 0.00000e+00, 1.20000e-01],\n",
       "       [1.46000e+02, 1.51839e+00, 1.28500e+01, 3.67000e+00, 1.24000e+00,\n",
       "        7.25700e+01, 6.20000e-01, 8.68000e+00, 0.00000e+00, 3.50000e-01],\n",
       "       [1.62000e+02, 1.51934e+00, 1.36400e+01, 3.54000e+00, 7.50000e-01,\n",
       "        7.26500e+01, 1.60000e-01, 8.89000e+00, 1.50000e-01, 2.40000e-01],\n",
       "       [1.47000e+02, 1.51769e+00, 1.36500e+01, 3.66000e+00, 1.11000e+00,\n",
       "        7.27700e+01, 1.10000e-01, 8.60000e+00, 0.00000e+00, 0.00000e+00],\n",
       "       [1.63000e+02, 1.52211e+00, 1.41900e+01, 3.78000e+00, 9.10000e-01,\n",
       "        7.13600e+01, 2.30000e-01, 9.14000e+00, 0.00000e+00, 3.70000e-01],\n",
       "       [1.65000e+02, 1.51915e+00, 1.27300e+01, 1.85000e+00, 1.86000e+00,\n",
       "        7.26900e+01, 6.00000e-01, 1.00900e+01, 0.00000e+00, 0.00000e+00],\n",
       "       [1.69000e+02, 1.51666e+00, 1.28600e+01, 0.00000e+00, 1.83000e+00,\n",
       "        7.38800e+01, 9.70000e-01, 1.01700e+01, 0.00000e+00, 0.00000e+00],\n",
       "       [1.73000e+02, 1.51321e+00, 1.30000e+01, 0.00000e+00, 3.02000e+00,\n",
       "        7.07000e+01, 6.21000e+00, 6.93000e+00, 0.00000e+00, 0.00000e+00],\n",
       "       [1.84000e+02, 1.51969e+00, 1.45600e+01, 0.00000e+00, 5.60000e-01,\n",
       "        7.34800e+01, 0.00000e+00, 1.12200e+01, 0.00000e+00, 0.00000e+00],\n",
       "       [1.81000e+02, 1.51299e+00, 1.44000e+01, 1.74000e+00, 1.54000e+00,\n",
       "        7.45500e+01, 0.00000e+00, 7.59000e+00, 0.00000e+00, 0.00000e+00],\n",
       "       [1.85000e+02, 1.51115e+00, 1.73800e+01, 0.00000e+00, 3.40000e-01,\n",
       "        7.54100e+01, 0.00000e+00, 6.65000e+00, 0.00000e+00, 0.00000e+00],\n",
       "       [1.82000e+02, 1.51888e+00, 1.49900e+01, 7.80000e-01, 1.74000e+00,\n",
       "        7.25000e+01, 0.00000e+00, 9.95000e+00, 0.00000e+00, 0.00000e+00],\n",
       "       [1.77000e+02, 1.51905e+00, 1.40000e+01, 2.39000e+00, 1.56000e+00,\n",
       "        7.23700e+01, 0.00000e+00, 9.57000e+00, 0.00000e+00, 0.00000e+00],\n",
       "       [1.86000e+02, 1.51131e+00, 1.36900e+01, 3.20000e+00, 1.81000e+00,\n",
       "        7.28100e+01, 1.76000e+00, 5.43000e+00, 1.19000e+00, 0.00000e+00],\n",
       "       [1.89000e+02, 1.52247e+00, 1.48600e+01, 2.20000e+00, 2.06000e+00,\n",
       "        7.02600e+01, 7.60000e-01, 9.76000e+00, 0.00000e+00, 0.00000e+00]])"
      ]
     },
     "execution_count": 7,
     "metadata": {},
     "output_type": "execute_result"
    }
   ],
   "source": [
    "model.support_vectors_"
   ]
  },
  {
   "cell_type": "code",
   "execution_count": 8,
   "metadata": {},
   "outputs": [
    {
     "data": {
      "text/plain": [
       "array([1, 2, 3, 3, 5, 2])"
      ]
     },
     "execution_count": 8,
     "metadata": {},
     "output_type": "execute_result"
    }
   ],
   "source": [
    "model.n_support_"
   ]
  },
  {
   "cell_type": "code",
   "execution_count": 9,
   "metadata": {},
   "outputs": [
    {
     "name": "stdout",
     "output_type": "stream",
     "text": [
      "Accuracy\n",
      " 0.9384615384615385\n",
      "\n",
      "Confusion Matrix\n",
      " [[16  0  0  0  0  0]\n",
      " [ 0 24  0  0  0  0]\n",
      " [ 0  0  4  0  0  0]\n",
      " [ 0  0  1  4  3  0]\n",
      " [ 0  0  0  0  1  0]\n",
      " [ 0  0  0  0  0 12]]\n",
      "\n",
      "Classification Report\n",
      "               precision    recall  f1-score   support\n",
      "\n",
      "           1       1.00      1.00      1.00        16\n",
      "           2       1.00      1.00      1.00        24\n",
      "           3       0.80      1.00      0.89         4\n",
      "           5       1.00      0.50      0.67         8\n",
      "           6       0.25      1.00      0.40         1\n",
      "           7       1.00      1.00      1.00        12\n",
      "\n",
      "    accuracy                           0.94        65\n",
      "   macro avg       0.84      0.92      0.83        65\n",
      "weighted avg       0.98      0.94      0.94        65\n",
      "\n"
     ]
    }
   ],
   "source": [
    "Y_pred=model.predict(X_test)\n",
    "\n",
    "print(\"Accuracy\\n\",accuracy_score(Y_test,Y_pred))\n",
    "print(\"\\nConfusion Matrix\\n\",confusion_matrix(Y_test,Y_pred))\n",
    "print(\"\\nClassification Report\\n\",classification_report(Y_test,Y_pred))"
   ]
  },
  {
   "cell_type": "code",
   "execution_count": 10,
   "metadata": {},
   "outputs": [
    {
     "data": {
      "text/plain": [
       "SVC()"
      ]
     },
     "execution_count": 10,
     "metadata": {},
     "output_type": "execute_result"
    }
   ],
   "source": [
    "#different models\n",
    "model1=svm.SVC(kernel='sigmoid')\n",
    "model2=svm.SVC(kernel='poly')\n",
    "model3=svm.SVC(kernel='rbf')\n",
    "\n",
    "#training model\n",
    "model1.fit(X_train,Y_train)\n",
    "model2.fit(X_train,Y_train)\n",
    "model3.fit(X_train,Y_train)"
   ]
  },
  {
   "cell_type": "code",
   "execution_count": 12,
   "metadata": {},
   "outputs": [
    {
     "name": "stdout",
     "output_type": "stream",
     "text": [
      "Accuracy of Model1 : \n",
      " 0.5846153846153846\n",
      "\n",
      "Accuracy of Model2 : \n",
      " 0.8923076923076924\n",
      "\n",
      "Accuracy of Model3 : \n",
      " 0.8\n"
     ]
    }
   ],
   "source": [
    "#accuracy of models\n",
    "Y_pred1=model1.predict(X_test)\n",
    "Y_pred2=model2.predict(X_test)\n",
    "Y_pred3=model3.predict(X_test)\n",
    "\n",
    "print(\"Accuracy of Model1 : \\n\",accuracy_score(Y_pred1,Y_test))\n",
    "\n",
    "print(\"\\nAccuracy of Model2 : \\n\",accuracy_score(Y_pred2,Y_test))\n",
    "\n",
    "print(\"\\nAccuracy of Model3 : \\n\",accuracy_score(Y_pred3,Y_test))"
   ]
  },
  {
   "cell_type": "code",
   "execution_count": null,
   "metadata": {},
   "outputs": [],
   "source": []
  }
 ],
 "metadata": {
  "kernelspec": {
   "display_name": "Python 3",
   "language": "python",
   "name": "python3"
  },
  "language_info": {
   "codemirror_mode": {
    "name": "ipython",
    "version": 3
   },
   "file_extension": ".py",
   "mimetype": "text/x-python",
   "name": "python",
   "nbconvert_exporter": "python",
   "pygments_lexer": "ipython3",
   "version": "3.8.5"
  }
 },
 "nbformat": 4,
 "nbformat_minor": 4
}
