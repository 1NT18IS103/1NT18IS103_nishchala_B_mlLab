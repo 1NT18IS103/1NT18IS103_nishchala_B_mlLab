{
 "cells": [
  {
   "cell_type": "code",
   "execution_count": 1,
   "metadata": {},
   "outputs": [],
   "source": [
    "import pandas as pd\n",
    "import math\n",
    "import numpy as np\n",
    "from sklearn.model_selection import train_test_split"
   ]
  },
  {
   "cell_type": "code",
   "execution_count": 17,
   "metadata": {},
   "outputs": [
    {
     "name": "stdout",
     "output_type": "stream",
     "text": [
      "    34.62365962  78.02469282  0\n",
      "0     30.286711    43.894998  0\n",
      "1     35.847409    72.902198  0\n",
      "2     60.182599    86.308552  1\n",
      "3     79.032736    75.344376  1\n",
      "4     45.083277    56.316372  0\n",
      "..          ...          ... ..\n",
      "94    83.489163    48.380286  1\n",
      "95    42.261701    87.103851  1\n",
      "96    99.315009    68.775409  1\n",
      "97    55.340018    64.931938  1\n",
      "98    74.775893    89.529813  1\n",
      "\n",
      "[99 rows x 3 columns]\n"
     ]
    }
   ],
   "source": [
    "dataset = pd.read_csv ('/Users/User/Desktop/Nishchala G/Student-University.csv')\n",
    "print(dataset)"
   ]
  },
  {
   "cell_type": "code",
   "execution_count": 16,
   "metadata": {},
   "outputs": [],
   "source": [
    "X=dataset.values[:,0:2]\n",
    "Y=dataset.values[:,2]\n",
    "\n",
    "\n",
    "X_train,X_test,y_train,y_test= train_test_split(X,Y,test_size = 0.20, random_state = 100)\n",
    "\n",
    "b0=0.0\n",
    "b1=0.0\n",
    "b2=0.0"
   ]
  },
  {
   "cell_type": "code",
   "execution_count": 7,
   "metadata": {},
   "outputs": [],
   "source": [
    "#calculating y b0=b0 + 0.01 * (y[j] - p[j]) * p[j] * (1 - p[j]) * 1.0\n",
    "            #b1=b1+0.01*(y[j]-p[j])*p[j]*(1-p[j])*x1[j]\n",
    "            #b2=b2+0.01*(y[j]-p[j])*p[j]*(1-p[j])*x2[j]\n",
    "x1=X_train[:,0]\n",
    "x2=X_train[:,1]"
   ]
  },
  {
   "cell_type": "code",
   "execution_count": 9,
   "metadata": {},
   "outputs": [
    {
     "name": "stdout",
     "output_type": "stream",
     "text": [
      "b0 -9.516587394243263\n",
      "b1 0.0853567638494315\n",
      "b2 0.08606126257509189\n"
     ]
    }
   ],
   "source": [
    "i=0\n",
    "alpha=0.001\n",
    "while(i<10000):\n",
    "    for j in range(len(x1)):\n",
    "        p=(1/(1+np.exp(-(b0+b1*x1[j]+b2*x2[j]))))\n",
    "        b0=b0 + alpha * (y_train[j] - p) * p * (1 - p) * 1.0\n",
    "        b1=b1+alpha*(y_train[j]-p)*p*(1-p)*x1[j]\n",
    "        b2=b2+alpha*(y_train[j]-p)*p*(1-p)*x2[j]\n",
    "    i+=1\n",
    "\n",
    "\n",
    "print(\"b0\",b0)\n",
    "print(\"b1\",b1)\n",
    "print(\"b2\",b2)"
   ]
  },
  {
   "cell_type": "code",
   "execution_count": 10,
   "metadata": {},
   "outputs": [
    {
     "name": "stdout",
     "output_type": "stream",
     "text": [
      "predicted values [1.0, 1.0, 1.0, 1.0, 0.0, 1.0, 1.0, 0.0, 0.0, 1.0, 0.0, 0.0, 0.0, 1.0, 1.0, 1.0, 1.0, 1.0, 1.0, 1.0]\n",
      "test values [0. 1. 1. 1. 0. 1. 1. 0. 0. 1. 0. 0. 0. 0. 1. 1. 0. 1. 1. 1.]\n"
     ]
    }
   ],
   "source": [
    "xtest1=X_test[:,0]\n",
    "xtest2=X_test[:,1]\n",
    "y_pred=[]\n",
    "for k in range(len(xtest1)):\n",
    "    y_pred.append(np.round(1/(1+np.exp(-(b0+b1*xtest1[k]+b2*xtest2[k])))))\n",
    "print(\"predicted values\",y_pred)\n",
    "print(\"test values\",y_test)"
   ]
  },
  {
   "cell_type": "code",
   "execution_count": 11,
   "metadata": {},
   "outputs": [
    {
     "name": "stdout",
     "output_type": "stream",
     "text": [
      "0.85\n"
     ]
    }
   ],
   "source": [
    "from sklearn.metrics import accuracy_score\n",
    "print(accuracy_score(y_test,y_pred))"
   ]
  },
  {
   "cell_type": "code",
   "execution_count": 12,
   "metadata": {},
   "outputs": [
    {
     "data": {
      "text/plain": [
       "34.62365962    0\n",
       "78.02469282    0\n",
       "0              0\n",
       "dtype: int64"
      ]
     },
     "execution_count": 12,
     "metadata": {},
     "output_type": "execute_result"
    }
   ],
   "source": [
    "dataset.isnull().sum()"
   ]
  },
  {
   "cell_type": "code",
   "execution_count": 13,
   "metadata": {},
   "outputs": [
    {
     "name": "stdout",
     "output_type": "stream",
     "text": [
      "b0 -9.516587394243263\n",
      "b1 0.0853567638494315\n",
      "b2 0.08606126257509189\n",
      "predicted values [1.0, 1.0, 1.0, 1.0, 0.0, 1.0, 1.0, 0.0, 0.0, 1.0, 0.0, 0.0, 0.0, 1.0, 1.0, 1.0, 1.0, 1.0, 1.0, 1.0]\n",
      "test values [0. 1. 1. 1. 0. 1. 1. 0. 0. 1. 0. 0. 0. 0. 1. 1. 0. 1. 1. 1.]\n"
     ]
    }
   ],
   "source": [
    "while(i<10000):\n",
    "    for j in range(len(x1)):\n",
    "        p=(1/(1+np.exp(-(b0+b1*x1[j]+b2*x2[j]))))\n",
    "    \n",
    "    i+=1\n",
    "\n",
    "\n",
    "print(\"b0\",b0)\n",
    "print(\"b1\",b1)\n",
    "print(\"b2\",b2)\n",
    "\n",
    "\n",
    "xtest1=X_test[:,0]\n",
    "xtest2=X_test[:,1]\n",
    "y_pred=[]\n",
    "for k in range(len(xtest1)):\n",
    "    y_pred.append(np.round(1/(1+np.exp(-(b0+b1*xtest1[k]+b2*xtest2[k])))))\n",
    "print(\"predicted values\",y_pred)\n",
    "print(\"test values\",y_test)"
   ]
  },
  {
   "cell_type": "code",
   "execution_count": 14,
   "metadata": {},
   "outputs": [
    {
     "name": "stdout",
     "output_type": "stream",
     "text": [
      "0.85\n"
     ]
    }
   ],
   "source": [
    "from sklearn.metrics import accuracy_score\n",
    "print(accuracy_score(y_test,y_pred))"
   ]
  },
  {
   "cell_type": "code",
   "execution_count": null,
   "metadata": {},
   "outputs": [],
   "source": []
  }
 ],
 "metadata": {
  "kernelspec": {
   "display_name": "Python 3",
   "language": "python",
   "name": "python3"
  },
  "language_info": {
   "codemirror_mode": {
    "name": "ipython",
    "version": 3
   },
   "file_extension": ".py",
   "mimetype": "text/x-python",
   "name": "python",
   "nbconvert_exporter": "python",
   "pygments_lexer": "ipython3",
   "version": "3.8.5"
  }
 },
 "nbformat": 4,
 "nbformat_minor": 4
}
